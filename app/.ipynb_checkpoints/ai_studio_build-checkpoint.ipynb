{
 "cells": [
  {
   "cell_type": "code",
   "execution_count": 1,
   "id": "33e0f5af",
   "metadata": {},
   "outputs": [],
   "source": [
    "def chunk_sentences(sentences):\n",
    "    chunks = []\n",
    "    num_sentences = len(sentences)\n",
    "    chunk = []\n",
    "    current_length = 0\n",
    "\n",
    "    for i, sentence in enumerate(sentences):\n",
    "        sentence_length = len(sentence)\n",
    "        # Check if adding the current sentence would exceed the 512 character limit\n",
    "        if current_length + sentence_length < 20:\n",
    "            chunk.append(sentence)\n",
    "            current_length += sentence_length\n",
    "        else:\n",
    "            # If so, finalize the current chunk and start a new one with the current sentence\n",
    "            # Ensure there's overlap by adding the last item of the current chunk to the new chunk if not empty\n",
    "            if chunks and chunk:  # Check if it's not the first chunk\n",
    "                chunk = [chunks[-1][-1]] + chunk\n",
    "            chunks.append(chunk)\n",
    "            chunk = [sentence]  # Start new chunk with current sentence\n",
    "            current_length = sentence_length  # Reset length counter for the new chunk\n",
    "\n",
    "    # Add the last chunk if it's not empty, ensuring overlap if possible\n",
    "    if chunk:\n",
    "        if chunks:  # Ensure there's overlap if it's not the first chunk\n",
    "            chunk = [chunks[-1][-1]] + chunk\n",
    "        chunks.append(chunk)\n",
    "\n",
    "    return chunks\n"
   ]
  },
  {
   "cell_type": "code",
   "execution_count": 2,
   "id": "c7050806",
   "metadata": {},
   "outputs": [],
   "source": [
    "sentences = ['Illustration', 'CHAPTER 8.', 'THE VALLEY OF VOICES', 'Illustration', 'CHAPTER 8.', 'THE VALLEY OF VOICES', 'Illustration: THE WIZARD CUT THE SORCERER EXACTLY IN TWO.', 'CHAPTER 4.', 'THE VEGETABLE KINGDOM', 'Illustration: THE WIZARD CUT THE SORCERER EXACTLY IN TWO.', 'CHAPTER 4.', 'THE VEGETABLE KINGDOM', 'Illustration', 'Illustration', 'CHAPTER 2.', 'THE GLASS CITY', 'Illustration', 'Illustration', 'CHAPTER 2.', 'THE GLASS CITY', 'Illustration', 'CHAPTER 7.', 'INTO THE BLACK PIT AND OUT AGAIN', 'Illustration', 'CHAPTER 7.', 'INTO THE BLACK PIT AND OUT AGAIN', 'Illustration', 'CHAPTER 3.', 'THE ARRIVAL OF THE WIZARD', 'Illustration', 'CHAPTER 3.', 'THE ARRIVAL OF THE WIZARD']\n",
    "sentences = chunk_sentences(sentences)"
   ]
  },
  {
   "cell_type": "code",
   "execution_count": 8,
   "id": "b9ffafa3",
   "metadata": {},
   "outputs": [
    {
     "ename": "NameError",
     "evalue": "name 'tokenizer' is not defined",
     "output_type": "error",
     "traceback": [
      "\u001b[1;31m---------------------------------------------------------------------------\u001b[0m",
      "\u001b[1;31mNameError\u001b[0m                                 Traceback (most recent call last)",
      "Cell \u001b[1;32mIn[8], line 1\u001b[0m\n\u001b[1;32m----> 1\u001b[0m \u001b[38;5;28mlen\u001b[39m(\u001b[43mtokenizer\u001b[49m\u001b[38;5;241m.\u001b[39mtokenize(sentences[\u001b[38;5;241m0\u001b[39m]))\n",
      "\u001b[1;31mNameError\u001b[0m: name 'tokenizer' is not defined"
     ]
    }
   ],
   "source": []
  },
  {
   "cell_type": "code",
   "execution_count": null,
   "id": "99a6678c",
   "metadata": {},
   "outputs": [],
   "source": []
  }
 ],
 "metadata": {
  "kernelspec": {
   "display_name": "aistudio",
   "language": "python",
   "name": "aistudio"
  },
  "language_info": {
   "codemirror_mode": {
    "name": "ipython",
    "version": 3
   },
   "file_extension": ".py",
   "mimetype": "text/x-python",
   "name": "python",
   "nbconvert_exporter": "python",
   "pygments_lexer": "ipython3",
   "version": "3.9.18"
  }
 },
 "nbformat": 4,
 "nbformat_minor": 5
}
